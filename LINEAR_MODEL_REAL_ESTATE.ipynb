{
 "cells": [
  {
   "cell_type": "code",
   "execution_count": 1,
   "id": "71d4e658",
   "metadata": {},
   "outputs": [],
   "source": [
    "import pandas as pd\n",
    "import numpy as np\n",
    "\n",
    "from statsmodels.stats.outliers_influence import variance_inflation_factor\n",
    "\n",
    "import matplotlib.pyplot as plt\n",
    "import seaborn as sns\n",
    "\n",
    "from sklearn.model_selection import train_test_split\n",
    "from sklearn.linear_model import LinearRegression\n",
    "\n",
    "from sklearn.metrics import mean_squared_error, r2_score, mean_absolute_error\n",
    "\n",
    "import pickle\n",
    "import json\n",
    "\n",
    "import warnings\n",
    "warnings.filterwarnings('ignore')"
   ]
  },
  {
   "cell_type": "markdown",
   "id": "740e7b83",
   "metadata": {},
   "source": [
    "#### 1.Problem Statement"
   ]
  },
  {
   "cell_type": "code",
   "execution_count": null,
   "id": "9be61d94",
   "metadata": {},
   "outputs": [],
   "source": [
    "To Predict house prices based on real estate features\n",
    "1.transaction date\n",
    "2.house age\n",
    "3.distance to the nearest MRT station\n",
    "4.number of convenience stores\n",
    "5.latitude\n",
    "6.longitude"
   ]
  },
  {
   "cell_type": "markdown",
   "id": "ffd917b0",
   "metadata": {},
   "source": [
    "#### 2.Data Gathering"
   ]
  },
  {
   "cell_type": "code",
   "execution_count": 2,
   "id": "ec957fb5",
   "metadata": {},
   "outputs": [
    {
     "data": {
      "text/html": [
       "<div>\n",
       "<style scoped>\n",
       "    .dataframe tbody tr th:only-of-type {\n",
       "        vertical-align: middle;\n",
       "    }\n",
       "\n",
       "    .dataframe tbody tr th {\n",
       "        vertical-align: top;\n",
       "    }\n",
       "\n",
       "    .dataframe thead th {\n",
       "        text-align: right;\n",
       "    }\n",
       "</style>\n",
       "<table border=\"1\" class=\"dataframe\">\n",
       "  <thead>\n",
       "    <tr style=\"text-align: right;\">\n",
       "      <th></th>\n",
       "      <th>No</th>\n",
       "      <th>transaction date</th>\n",
       "      <th>house age</th>\n",
       "      <th>distance to the nearest MRT station</th>\n",
       "      <th>number of convenience stores</th>\n",
       "      <th>latitude</th>\n",
       "      <th>longitude</th>\n",
       "      <th>house price of unit area</th>\n",
       "    </tr>\n",
       "  </thead>\n",
       "  <tbody>\n",
       "    <tr>\n",
       "      <th>0</th>\n",
       "      <td>1</td>\n",
       "      <td>2012.916667</td>\n",
       "      <td>32.0</td>\n",
       "      <td>84.87882</td>\n",
       "      <td>10</td>\n",
       "      <td>24.98298</td>\n",
       "      <td>121.54024</td>\n",
       "      <td>37.9</td>\n",
       "    </tr>\n",
       "    <tr>\n",
       "      <th>1</th>\n",
       "      <td>2</td>\n",
       "      <td>2012.916667</td>\n",
       "      <td>19.5</td>\n",
       "      <td>306.59470</td>\n",
       "      <td>9</td>\n",
       "      <td>24.98034</td>\n",
       "      <td>121.53951</td>\n",
       "      <td>42.2</td>\n",
       "    </tr>\n",
       "    <tr>\n",
       "      <th>2</th>\n",
       "      <td>3</td>\n",
       "      <td>2013.583333</td>\n",
       "      <td>13.3</td>\n",
       "      <td>561.98450</td>\n",
       "      <td>5</td>\n",
       "      <td>24.98746</td>\n",
       "      <td>121.54391</td>\n",
       "      <td>47.3</td>\n",
       "    </tr>\n",
       "    <tr>\n",
       "      <th>3</th>\n",
       "      <td>4</td>\n",
       "      <td>2013.500000</td>\n",
       "      <td>13.3</td>\n",
       "      <td>561.98450</td>\n",
       "      <td>5</td>\n",
       "      <td>24.98746</td>\n",
       "      <td>121.54391</td>\n",
       "      <td>54.8</td>\n",
       "    </tr>\n",
       "    <tr>\n",
       "      <th>4</th>\n",
       "      <td>5</td>\n",
       "      <td>2012.833333</td>\n",
       "      <td>5.0</td>\n",
       "      <td>390.56840</td>\n",
       "      <td>5</td>\n",
       "      <td>24.97937</td>\n",
       "      <td>121.54245</td>\n",
       "      <td>43.1</td>\n",
       "    </tr>\n",
       "    <tr>\n",
       "      <th>...</th>\n",
       "      <td>...</td>\n",
       "      <td>...</td>\n",
       "      <td>...</td>\n",
       "      <td>...</td>\n",
       "      <td>...</td>\n",
       "      <td>...</td>\n",
       "      <td>...</td>\n",
       "      <td>...</td>\n",
       "    </tr>\n",
       "    <tr>\n",
       "      <th>409</th>\n",
       "      <td>410</td>\n",
       "      <td>2013.000000</td>\n",
       "      <td>13.7</td>\n",
       "      <td>4082.01500</td>\n",
       "      <td>0</td>\n",
       "      <td>24.94155</td>\n",
       "      <td>121.50381</td>\n",
       "      <td>15.4</td>\n",
       "    </tr>\n",
       "    <tr>\n",
       "      <th>410</th>\n",
       "      <td>411</td>\n",
       "      <td>2012.666667</td>\n",
       "      <td>5.6</td>\n",
       "      <td>90.45606</td>\n",
       "      <td>9</td>\n",
       "      <td>24.97433</td>\n",
       "      <td>121.54310</td>\n",
       "      <td>50.0</td>\n",
       "    </tr>\n",
       "    <tr>\n",
       "      <th>411</th>\n",
       "      <td>412</td>\n",
       "      <td>2013.250000</td>\n",
       "      <td>18.8</td>\n",
       "      <td>390.96960</td>\n",
       "      <td>7</td>\n",
       "      <td>24.97923</td>\n",
       "      <td>121.53986</td>\n",
       "      <td>40.6</td>\n",
       "    </tr>\n",
       "    <tr>\n",
       "      <th>412</th>\n",
       "      <td>413</td>\n",
       "      <td>2013.000000</td>\n",
       "      <td>8.1</td>\n",
       "      <td>104.81010</td>\n",
       "      <td>5</td>\n",
       "      <td>24.96674</td>\n",
       "      <td>121.54067</td>\n",
       "      <td>52.5</td>\n",
       "    </tr>\n",
       "    <tr>\n",
       "      <th>413</th>\n",
       "      <td>414</td>\n",
       "      <td>2013.500000</td>\n",
       "      <td>6.5</td>\n",
       "      <td>90.45606</td>\n",
       "      <td>9</td>\n",
       "      <td>24.97433</td>\n",
       "      <td>121.54310</td>\n",
       "      <td>63.9</td>\n",
       "    </tr>\n",
       "  </tbody>\n",
       "</table>\n",
       "<p>414 rows × 8 columns</p>\n",
       "</div>"
      ],
      "text/plain": [
       "      No   transaction date  house age  distance to the nearest MRT station  \\\n",
       "0      1        2012.916667       32.0                             84.87882   \n",
       "1      2        2012.916667       19.5                            306.59470   \n",
       "2      3        2013.583333       13.3                            561.98450   \n",
       "3      4        2013.500000       13.3                            561.98450   \n",
       "4      5        2012.833333        5.0                            390.56840   \n",
       "..   ...                ...        ...                                  ...   \n",
       "409  410        2013.000000       13.7                           4082.01500   \n",
       "410  411        2012.666667        5.6                             90.45606   \n",
       "411  412        2013.250000       18.8                            390.96960   \n",
       "412  413        2013.000000        8.1                            104.81010   \n",
       "413  414        2013.500000        6.5                             90.45606   \n",
       "\n",
       "     number of convenience stores  latitude  longitude  \\\n",
       "0                              10  24.98298  121.54024   \n",
       "1                               9  24.98034  121.53951   \n",
       "2                               5  24.98746  121.54391   \n",
       "3                               5  24.98746  121.54391   \n",
       "4                               5  24.97937  121.54245   \n",
       "..                            ...       ...        ...   \n",
       "409                             0  24.94155  121.50381   \n",
       "410                             9  24.97433  121.54310   \n",
       "411                             7  24.97923  121.53986   \n",
       "412                             5  24.96674  121.54067   \n",
       "413                             9  24.97433  121.54310   \n",
       "\n",
       "     house price of unit area  \n",
       "0                        37.9  \n",
       "1                        42.2  \n",
       "2                        47.3  \n",
       "3                        54.8  \n",
       "4                        43.1  \n",
       "..                        ...  \n",
       "409                      15.4  \n",
       "410                      50.0  \n",
       "411                      40.6  \n",
       "412                      52.5  \n",
       "413                      63.9  \n",
       "\n",
       "[414 rows x 8 columns]"
      ]
     },
     "execution_count": 2,
     "metadata": {},
     "output_type": "execute_result"
    }
   ],
   "source": [
    "df = pd.read_excel(\"Real_estate.xlsx\")\n",
    "df"
   ]
  },
  {
   "cell_type": "code",
   "execution_count": 3,
   "id": "3dae27c6",
   "metadata": {},
   "outputs": [
    {
     "data": {
      "text/plain": [
       "['No',\n",
       " ' transaction date',\n",
       " 'house age',\n",
       " 'distance to the nearest MRT station',\n",
       " 'number of convenience stores',\n",
       " 'latitude',\n",
       " 'longitude',\n",
       " 'house price of unit area']"
      ]
     },
     "execution_count": 3,
     "metadata": {},
     "output_type": "execute_result"
    }
   ],
   "source": [
    "df.columns.tolist()"
   ]
  },
  {
   "cell_type": "markdown",
   "id": "56422ade",
   "metadata": {},
   "source": [
    "#### 3.Exploratory Data Analysis"
   ]
  },
  {
   "cell_type": "markdown",
   "id": "b9e3ba0d",
   "metadata": {},
   "source": [
    "##### 1.Missing value"
   ]
  },
  {
   "cell_type": "code",
   "execution_count": 4,
   "id": "364bf3b7",
   "metadata": {},
   "outputs": [
    {
     "data": {
      "text/plain": [
       "No                                     0\n",
       " transaction date                      0\n",
       "house age                              0\n",
       "distance to the nearest MRT station    0\n",
       "number of convenience stores           0\n",
       "latitude                               0\n",
       "longitude                              0\n",
       "house price of unit area               0\n",
       "dtype: int64"
      ]
     },
     "execution_count": 4,
     "metadata": {},
     "output_type": "execute_result"
    }
   ],
   "source": [
    "df.isnull().sum()"
   ]
  },
  {
   "cell_type": "code",
   "execution_count": null,
   "id": "8f83fcab",
   "metadata": {},
   "outputs": [],
   "source": [
    "DataFrame contains no missing values"
   ]
  },
  {
   "cell_type": "markdown",
   "id": "117fa559",
   "metadata": {},
   "source": [
    "##### 2.Categorical Data(Object DataType)"
   ]
  },
  {
   "cell_type": "code",
   "execution_count": 5,
   "id": "66e284b9",
   "metadata": {},
   "outputs": [
    {
     "name": "stdout",
     "output_type": "stream",
     "text": [
      "<class 'pandas.core.frame.DataFrame'>\n",
      "RangeIndex: 414 entries, 0 to 413\n",
      "Data columns (total 8 columns):\n",
      " #   Column                               Non-Null Count  Dtype  \n",
      "---  ------                               --------------  -----  \n",
      " 0   No                                   414 non-null    int64  \n",
      " 1    transaction date                    414 non-null    float64\n",
      " 2   house age                            414 non-null    float64\n",
      " 3   distance to the nearest MRT station  414 non-null    float64\n",
      " 4   number of convenience stores         414 non-null    int64  \n",
      " 5   latitude                             414 non-null    float64\n",
      " 6   longitude                            414 non-null    float64\n",
      " 7   house price of unit area             414 non-null    float64\n",
      "dtypes: float64(6), int64(2)\n",
      "memory usage: 26.0 KB\n"
     ]
    }
   ],
   "source": [
    "df.info()"
   ]
  },
  {
   "cell_type": "code",
   "execution_count": 6,
   "id": "2286343c",
   "metadata": {},
   "outputs": [
    {
     "data": {
      "text/plain": [
       "No                                       int64\n",
       " transaction date                      float64\n",
       "house age                              float64\n",
       "distance to the nearest MRT station    float64\n",
       "number of convenience stores             int64\n",
       "latitude                               float64\n",
       "longitude                              float64\n",
       "house price of unit area               float64\n",
       "dtype: object"
      ]
     },
     "execution_count": 6,
     "metadata": {},
     "output_type": "execute_result"
    }
   ],
   "source": [
    "df.dtypes"
   ]
  },
  {
   "cell_type": "code",
   "execution_count": null,
   "id": "90e53b51",
   "metadata": {},
   "outputs": [],
   "source": [
    "DataFrame has no categorical data(object data type)"
   ]
  },
  {
   "cell_type": "markdown",
   "id": "bf7f3027",
   "metadata": {},
   "source": [
    "#### 4.Feature Engineering"
   ]
  },
  {
   "cell_type": "code",
   "execution_count": null,
   "id": "04fdb4db",
   "metadata": {},
   "outputs": [],
   "source": [
    "No need to perform feature engineering as DataFrame contains no missing value and no object data type, but will drop \"NO\" column as it is of no use"
   ]
  },
  {
   "cell_type": "code",
   "execution_count": 7,
   "id": "5dea07c7",
   "metadata": {},
   "outputs": [],
   "source": [
    "df.drop(\"No\",axis = 1, inplace=True)"
   ]
  },
  {
   "cell_type": "code",
   "execution_count": 8,
   "id": "cac00ddf",
   "metadata": {},
   "outputs": [
    {
     "data": {
      "text/html": [
       "<div>\n",
       "<style scoped>\n",
       "    .dataframe tbody tr th:only-of-type {\n",
       "        vertical-align: middle;\n",
       "    }\n",
       "\n",
       "    .dataframe tbody tr th {\n",
       "        vertical-align: top;\n",
       "    }\n",
       "\n",
       "    .dataframe thead th {\n",
       "        text-align: right;\n",
       "    }\n",
       "</style>\n",
       "<table border=\"1\" class=\"dataframe\">\n",
       "  <thead>\n",
       "    <tr style=\"text-align: right;\">\n",
       "      <th></th>\n",
       "      <th>transaction date</th>\n",
       "      <th>house age</th>\n",
       "      <th>distance to the nearest MRT station</th>\n",
       "      <th>number of convenience stores</th>\n",
       "      <th>latitude</th>\n",
       "      <th>longitude</th>\n",
       "      <th>house price of unit area</th>\n",
       "    </tr>\n",
       "  </thead>\n",
       "  <tbody>\n",
       "    <tr>\n",
       "      <th>0</th>\n",
       "      <td>2012.916667</td>\n",
       "      <td>32.0</td>\n",
       "      <td>84.87882</td>\n",
       "      <td>10</td>\n",
       "      <td>24.98298</td>\n",
       "      <td>121.54024</td>\n",
       "      <td>37.9</td>\n",
       "    </tr>\n",
       "    <tr>\n",
       "      <th>1</th>\n",
       "      <td>2012.916667</td>\n",
       "      <td>19.5</td>\n",
       "      <td>306.59470</td>\n",
       "      <td>9</td>\n",
       "      <td>24.98034</td>\n",
       "      <td>121.53951</td>\n",
       "      <td>42.2</td>\n",
       "    </tr>\n",
       "    <tr>\n",
       "      <th>2</th>\n",
       "      <td>2013.583333</td>\n",
       "      <td>13.3</td>\n",
       "      <td>561.98450</td>\n",
       "      <td>5</td>\n",
       "      <td>24.98746</td>\n",
       "      <td>121.54391</td>\n",
       "      <td>47.3</td>\n",
       "    </tr>\n",
       "    <tr>\n",
       "      <th>3</th>\n",
       "      <td>2013.500000</td>\n",
       "      <td>13.3</td>\n",
       "      <td>561.98450</td>\n",
       "      <td>5</td>\n",
       "      <td>24.98746</td>\n",
       "      <td>121.54391</td>\n",
       "      <td>54.8</td>\n",
       "    </tr>\n",
       "    <tr>\n",
       "      <th>4</th>\n",
       "      <td>2012.833333</td>\n",
       "      <td>5.0</td>\n",
       "      <td>390.56840</td>\n",
       "      <td>5</td>\n",
       "      <td>24.97937</td>\n",
       "      <td>121.54245</td>\n",
       "      <td>43.1</td>\n",
       "    </tr>\n",
       "    <tr>\n",
       "      <th>...</th>\n",
       "      <td>...</td>\n",
       "      <td>...</td>\n",
       "      <td>...</td>\n",
       "      <td>...</td>\n",
       "      <td>...</td>\n",
       "      <td>...</td>\n",
       "      <td>...</td>\n",
       "    </tr>\n",
       "    <tr>\n",
       "      <th>409</th>\n",
       "      <td>2013.000000</td>\n",
       "      <td>13.7</td>\n",
       "      <td>4082.01500</td>\n",
       "      <td>0</td>\n",
       "      <td>24.94155</td>\n",
       "      <td>121.50381</td>\n",
       "      <td>15.4</td>\n",
       "    </tr>\n",
       "    <tr>\n",
       "      <th>410</th>\n",
       "      <td>2012.666667</td>\n",
       "      <td>5.6</td>\n",
       "      <td>90.45606</td>\n",
       "      <td>9</td>\n",
       "      <td>24.97433</td>\n",
       "      <td>121.54310</td>\n",
       "      <td>50.0</td>\n",
       "    </tr>\n",
       "    <tr>\n",
       "      <th>411</th>\n",
       "      <td>2013.250000</td>\n",
       "      <td>18.8</td>\n",
       "      <td>390.96960</td>\n",
       "      <td>7</td>\n",
       "      <td>24.97923</td>\n",
       "      <td>121.53986</td>\n",
       "      <td>40.6</td>\n",
       "    </tr>\n",
       "    <tr>\n",
       "      <th>412</th>\n",
       "      <td>2013.000000</td>\n",
       "      <td>8.1</td>\n",
       "      <td>104.81010</td>\n",
       "      <td>5</td>\n",
       "      <td>24.96674</td>\n",
       "      <td>121.54067</td>\n",
       "      <td>52.5</td>\n",
       "    </tr>\n",
       "    <tr>\n",
       "      <th>413</th>\n",
       "      <td>2013.500000</td>\n",
       "      <td>6.5</td>\n",
       "      <td>90.45606</td>\n",
       "      <td>9</td>\n",
       "      <td>24.97433</td>\n",
       "      <td>121.54310</td>\n",
       "      <td>63.9</td>\n",
       "    </tr>\n",
       "  </tbody>\n",
       "</table>\n",
       "<p>414 rows × 7 columns</p>\n",
       "</div>"
      ],
      "text/plain": [
       "      transaction date  house age  distance to the nearest MRT station  \\\n",
       "0          2012.916667       32.0                             84.87882   \n",
       "1          2012.916667       19.5                            306.59470   \n",
       "2          2013.583333       13.3                            561.98450   \n",
       "3          2013.500000       13.3                            561.98450   \n",
       "4          2012.833333        5.0                            390.56840   \n",
       "..                 ...        ...                                  ...   \n",
       "409        2013.000000       13.7                           4082.01500   \n",
       "410        2012.666667        5.6                             90.45606   \n",
       "411        2013.250000       18.8                            390.96960   \n",
       "412        2013.000000        8.1                            104.81010   \n",
       "413        2013.500000        6.5                             90.45606   \n",
       "\n",
       "     number of convenience stores  latitude  longitude  \\\n",
       "0                              10  24.98298  121.54024   \n",
       "1                               9  24.98034  121.53951   \n",
       "2                               5  24.98746  121.54391   \n",
       "3                               5  24.98746  121.54391   \n",
       "4                               5  24.97937  121.54245   \n",
       "..                            ...       ...        ...   \n",
       "409                             0  24.94155  121.50381   \n",
       "410                             9  24.97433  121.54310   \n",
       "411                             7  24.97923  121.53986   \n",
       "412                             5  24.96674  121.54067   \n",
       "413                             9  24.97433  121.54310   \n",
       "\n",
       "     house price of unit area  \n",
       "0                        37.9  \n",
       "1                        42.2  \n",
       "2                        47.3  \n",
       "3                        54.8  \n",
       "4                        43.1  \n",
       "..                        ...  \n",
       "409                      15.4  \n",
       "410                      50.0  \n",
       "411                      40.6  \n",
       "412                      52.5  \n",
       "413                      63.9  \n",
       "\n",
       "[414 rows x 7 columns]"
      ]
     },
     "execution_count": 8,
     "metadata": {},
     "output_type": "execute_result"
    }
   ],
   "source": [
    "df"
   ]
  },
  {
   "cell_type": "markdown",
   "id": "5fc4c040",
   "metadata": {},
   "source": [
    "#### 5.Feature selection"
   ]
  },
  {
   "cell_type": "markdown",
   "id": "9dc0f8bf",
   "metadata": {},
   "source": [
    "##### 1.Linearity"
   ]
  },
  {
   "cell_type": "code",
   "execution_count": 9,
   "id": "354ca602",
   "metadata": {},
   "outputs": [
    {
     "data": {
      "text/html": [
       "<div>\n",
       "<style scoped>\n",
       "    .dataframe tbody tr th:only-of-type {\n",
       "        vertical-align: middle;\n",
       "    }\n",
       "\n",
       "    .dataframe tbody tr th {\n",
       "        vertical-align: top;\n",
       "    }\n",
       "\n",
       "    .dataframe thead th {\n",
       "        text-align: right;\n",
       "    }\n",
       "</style>\n",
       "<table border=\"1\" class=\"dataframe\">\n",
       "  <thead>\n",
       "    <tr style=\"text-align: right;\">\n",
       "      <th></th>\n",
       "      <th>transaction date</th>\n",
       "      <th>house age</th>\n",
       "      <th>distance to the nearest MRT station</th>\n",
       "      <th>number of convenience stores</th>\n",
       "      <th>latitude</th>\n",
       "      <th>longitude</th>\n",
       "      <th>house price of unit area</th>\n",
       "    </tr>\n",
       "  </thead>\n",
       "  <tbody>\n",
       "    <tr>\n",
       "      <th>transaction date</th>\n",
       "      <td>1.000000</td>\n",
       "      <td>0.017542</td>\n",
       "      <td>0.060880</td>\n",
       "      <td>0.009544</td>\n",
       "      <td>0.035016</td>\n",
       "      <td>-0.041065</td>\n",
       "      <td>0.087529</td>\n",
       "    </tr>\n",
       "    <tr>\n",
       "      <th>house age</th>\n",
       "      <td>0.017542</td>\n",
       "      <td>1.000000</td>\n",
       "      <td>0.025622</td>\n",
       "      <td>0.049593</td>\n",
       "      <td>0.054420</td>\n",
       "      <td>-0.048520</td>\n",
       "      <td>-0.210567</td>\n",
       "    </tr>\n",
       "    <tr>\n",
       "      <th>distance to the nearest MRT station</th>\n",
       "      <td>0.060880</td>\n",
       "      <td>0.025622</td>\n",
       "      <td>1.000000</td>\n",
       "      <td>-0.602519</td>\n",
       "      <td>-0.591067</td>\n",
       "      <td>-0.806317</td>\n",
       "      <td>-0.673613</td>\n",
       "    </tr>\n",
       "    <tr>\n",
       "      <th>number of convenience stores</th>\n",
       "      <td>0.009544</td>\n",
       "      <td>0.049593</td>\n",
       "      <td>-0.602519</td>\n",
       "      <td>1.000000</td>\n",
       "      <td>0.444143</td>\n",
       "      <td>0.449099</td>\n",
       "      <td>0.571005</td>\n",
       "    </tr>\n",
       "    <tr>\n",
       "      <th>latitude</th>\n",
       "      <td>0.035016</td>\n",
       "      <td>0.054420</td>\n",
       "      <td>-0.591067</td>\n",
       "      <td>0.444143</td>\n",
       "      <td>1.000000</td>\n",
       "      <td>0.412924</td>\n",
       "      <td>0.546307</td>\n",
       "    </tr>\n",
       "    <tr>\n",
       "      <th>longitude</th>\n",
       "      <td>-0.041065</td>\n",
       "      <td>-0.048520</td>\n",
       "      <td>-0.806317</td>\n",
       "      <td>0.449099</td>\n",
       "      <td>0.412924</td>\n",
       "      <td>1.000000</td>\n",
       "      <td>0.523287</td>\n",
       "    </tr>\n",
       "    <tr>\n",
       "      <th>house price of unit area</th>\n",
       "      <td>0.087529</td>\n",
       "      <td>-0.210567</td>\n",
       "      <td>-0.673613</td>\n",
       "      <td>0.571005</td>\n",
       "      <td>0.546307</td>\n",
       "      <td>0.523287</td>\n",
       "      <td>1.000000</td>\n",
       "    </tr>\n",
       "  </tbody>\n",
       "</table>\n",
       "</div>"
      ],
      "text/plain": [
       "                                      transaction date  house age  \\\n",
       " transaction date                             1.000000   0.017542   \n",
       "house age                                     0.017542   1.000000   \n",
       "distance to the nearest MRT station           0.060880   0.025622   \n",
       "number of convenience stores                  0.009544   0.049593   \n",
       "latitude                                      0.035016   0.054420   \n",
       "longitude                                    -0.041065  -0.048520   \n",
       "house price of unit area                      0.087529  -0.210567   \n",
       "\n",
       "                                     distance to the nearest MRT station  \\\n",
       " transaction date                                               0.060880   \n",
       "house age                                                       0.025622   \n",
       "distance to the nearest MRT station                             1.000000   \n",
       "number of convenience stores                                   -0.602519   \n",
       "latitude                                                       -0.591067   \n",
       "longitude                                                      -0.806317   \n",
       "house price of unit area                                       -0.673613   \n",
       "\n",
       "                                     number of convenience stores  latitude  \\\n",
       " transaction date                                        0.009544  0.035016   \n",
       "house age                                                0.049593  0.054420   \n",
       "distance to the nearest MRT station                     -0.602519 -0.591067   \n",
       "number of convenience stores                             1.000000  0.444143   \n",
       "latitude                                                 0.444143  1.000000   \n",
       "longitude                                                0.449099  0.412924   \n",
       "house price of unit area                                 0.571005  0.546307   \n",
       "\n",
       "                                     longitude  house price of unit area  \n",
       " transaction date                    -0.041065                  0.087529  \n",
       "house age                            -0.048520                 -0.210567  \n",
       "distance to the nearest MRT station  -0.806317                 -0.673613  \n",
       "number of convenience stores          0.449099                  0.571005  \n",
       "latitude                              0.412924                  0.546307  \n",
       "longitude                             1.000000                  0.523287  \n",
       "house price of unit area              0.523287                  1.000000  "
      ]
     },
     "execution_count": 9,
     "metadata": {},
     "output_type": "execute_result"
    }
   ],
   "source": [
    "df.corr()"
   ]
  },
  {
   "cell_type": "code",
   "execution_count": 10,
   "id": "2af41d83",
   "metadata": {},
   "outputs": [
    {
     "data": {
      "image/png": "[encoded data removed]",
      "text/plain": [
       "<Figure size 2000x1500 with 2 Axes>"
      ]
     },
     "metadata": {},
     "output_type": "display_data"
    }
   ],
   "source": [
    "plt.figure(figsize = (20,15))\n",
    "sns.heatmap(df.corr(),annot = True)\n",
    "plt.savefig('HPR_corr.png')"
   ]
  },
  {
   "cell_type": "code",
   "execution_count": 11,
   "id": "6a079aa5",
   "metadata": {
    "scrolled": true
   },
   "outputs": [
    {
     "data": {
      "image/png": "[encoded data removed]",
      "text/plain": [
       "<Figure size 2000x400 with 2 Axes>"
      ]
     },
     "metadata": {},
     "output_type": "display_data"
    }
   ],
   "source": [
    "plt.figure(figsize = (20,4))\n",
    "sns.heatmap(df.corr().tail(1),annot = True)\n",
    "plt.savefig('HPR_corr.png')"
   ]
  },
  {
   "cell_type": "markdown",
   "id": "99561f76",
   "metadata": {},
   "source": [
    "##### 2.No Multicolinearity"
   ]
  },
  {
   "cell_type": "code",
   "execution_count": 12,
   "id": "21adbcfa",
   "metadata": {},
   "outputs": [],
   "source": [
    "x = df.drop(\"house price of unit area\",axis = 1)\n",
    "y = df[\"house price of unit area\"]"
   ]
  },
  {
   "cell_type": "code",
   "execution_count": 13,
   "id": "1b390058",
   "metadata": {},
   "outputs": [
    {
     "data": {
      "text/plain": [
       "Index([' transaction date', 'house age', 'distance to the nearest MRT station',\n",
       "       'number of convenience stores', 'latitude', 'longitude'],\n",
       "      dtype='object')"
      ]
     },
     "execution_count": 13,
     "metadata": {},
     "output_type": "execute_result"
    }
   ],
   "source": [
    "x.columns"
   ]
  },
  {
   "cell_type": "code",
   "execution_count": 14,
   "id": "6ed8fbfe",
   "metadata": {},
   "outputs": [
    {
     "data": {
      "text/plain": [
       "[42526720.52504183,\n",
       " 3.471392187504246,\n",
       " 4.260901945361152,\n",
       " 4.7480981150989425,\n",
       " 6178185.230248435,\n",
       " 41982923.74890924]"
      ]
     },
     "execution_count": 14,
     "metadata": {},
     "output_type": "execute_result"
    }
   ],
   "source": [
    "vif_list = []\n",
    "for i in range(x.shape[1]):\n",
    "    vif = variance_inflation_factor(x.to_numpy(),i)\n",
    "    vif_list.append(vif)\n",
    "vif_list"
   ]
  },
  {
   "cell_type": "code",
   "execution_count": 15,
   "id": "a65d0cf2",
   "metadata": {},
   "outputs": [
    {
     "data": {
      "text/plain": [
       " transaction date                      4.252672e+07\n",
       "house age                              3.471392e+00\n",
       "distance to the nearest MRT station    4.260902e+00\n",
       "number of convenience stores           4.748098e+00\n",
       "latitude                               6.178185e+06\n",
       "longitude                              4.198292e+07\n",
       "dtype: float64"
      ]
     },
     "execution_count": 15,
     "metadata": {},
     "output_type": "execute_result"
    }
   ],
   "source": [
    "vif_values = pd.Series(vif_list,index = x.columns)\n",
    "vif_values"
   ]
  },
  {
   "cell_type": "code",
   "execution_count": 16,
   "id": "6c3657cf",
   "metadata": {},
   "outputs": [
    {
     "data": {
      "text/plain": [
       "<Axes: >"
      ]
     },
     "execution_count": 16,
     "metadata": {},
     "output_type": "execute_result"
    },
    {
     "data": {
      "image/png": "[encoded data removed]",
      "text/plain": [
       "<Figure size 640x480 with 1 Axes>"
      ]
     },
     "metadata": {},
     "output_type": "display_data"
    }
   ],
   "source": [
    "vif_values.sort_values().plot(kind = 'bar')"
   ]
  },
  {
   "cell_type": "markdown",
   "id": "a685032f",
   "metadata": {},
   "source": [
    "#### 6 Model Training"
   ]
  },
  {
   "cell_type": "code",
   "execution_count": 17,
   "id": "eb10568a",
   "metadata": {},
   "outputs": [
    {
     "data": {
      "text/html": [
       "<div>\n",
       "<style scoped>\n",
       "    .dataframe tbody tr th:only-of-type {\n",
       "        vertical-align: middle;\n",
       "    }\n",
       "\n",
       "    .dataframe tbody tr th {\n",
       "        vertical-align: top;\n",
       "    }\n",
       "\n",
       "    .dataframe thead th {\n",
       "        text-align: right;\n",
       "    }\n",
       "</style>\n",
       "<table border=\"1\" class=\"dataframe\">\n",
       "  <thead>\n",
       "    <tr style=\"text-align: right;\">\n",
       "      <th></th>\n",
       "      <th>transaction date</th>\n",
       "      <th>house age</th>\n",
       "      <th>distance to the nearest MRT station</th>\n",
       "      <th>number of convenience stores</th>\n",
       "      <th>latitude</th>\n",
       "      <th>longitude</th>\n",
       "    </tr>\n",
       "  </thead>\n",
       "  <tbody>\n",
       "    <tr>\n",
       "      <th>0</th>\n",
       "      <td>2012.916667</td>\n",
       "      <td>32.0</td>\n",
       "      <td>84.87882</td>\n",
       "      <td>10</td>\n",
       "      <td>24.98298</td>\n",
       "      <td>121.54024</td>\n",
       "    </tr>\n",
       "    <tr>\n",
       "      <th>1</th>\n",
       "      <td>2012.916667</td>\n",
       "      <td>19.5</td>\n",
       "      <td>306.59470</td>\n",
       "      <td>9</td>\n",
       "      <td>24.98034</td>\n",
       "      <td>121.53951</td>\n",
       "    </tr>\n",
       "    <tr>\n",
       "      <th>2</th>\n",
       "      <td>2013.583333</td>\n",
       "      <td>13.3</td>\n",
       "      <td>561.98450</td>\n",
       "      <td>5</td>\n",
       "      <td>24.98746</td>\n",
       "      <td>121.54391</td>\n",
       "    </tr>\n",
       "    <tr>\n",
       "      <th>3</th>\n",
       "      <td>2013.500000</td>\n",
       "      <td>13.3</td>\n",
       "      <td>561.98450</td>\n",
       "      <td>5</td>\n",
       "      <td>24.98746</td>\n",
       "      <td>121.54391</td>\n",
       "    </tr>\n",
       "    <tr>\n",
       "      <th>4</th>\n",
       "      <td>2012.833333</td>\n",
       "      <td>5.0</td>\n",
       "      <td>390.56840</td>\n",
       "      <td>5</td>\n",
       "      <td>24.97937</td>\n",
       "      <td>121.54245</td>\n",
       "    </tr>\n",
       "    <tr>\n",
       "      <th>...</th>\n",
       "      <td>...</td>\n",
       "      <td>...</td>\n",
       "      <td>...</td>\n",
       "      <td>...</td>\n",
       "      <td>...</td>\n",
       "      <td>...</td>\n",
       "    </tr>\n",
       "    <tr>\n",
       "      <th>409</th>\n",
       "      <td>2013.000000</td>\n",
       "      <td>13.7</td>\n",
       "      <td>4082.01500</td>\n",
       "      <td>0</td>\n",
       "      <td>24.94155</td>\n",
       "      <td>121.50381</td>\n",
       "    </tr>\n",
       "    <tr>\n",
       "      <th>410</th>\n",
       "      <td>2012.666667</td>\n",
       "      <td>5.6</td>\n",
       "      <td>90.45606</td>\n",
       "      <td>9</td>\n",
       "      <td>24.97433</td>\n",
       "      <td>121.54310</td>\n",
       "    </tr>\n",
       "    <tr>\n",
       "      <th>411</th>\n",
       "      <td>2013.250000</td>\n",
       "      <td>18.8</td>\n",
       "      <td>390.96960</td>\n",
       "      <td>7</td>\n",
       "      <td>24.97923</td>\n",
       "      <td>121.53986</td>\n",
       "    </tr>\n",
       "    <tr>\n",
       "      <th>412</th>\n",
       "      <td>2013.000000</td>\n",
       "      <td>8.1</td>\n",
       "      <td>104.81010</td>\n",
       "      <td>5</td>\n",
       "      <td>24.96674</td>\n",
       "      <td>121.54067</td>\n",
       "    </tr>\n",
       "    <tr>\n",
       "      <th>413</th>\n",
       "      <td>2013.500000</td>\n",
       "      <td>6.5</td>\n",
       "      <td>90.45606</td>\n",
       "      <td>9</td>\n",
       "      <td>24.97433</td>\n",
       "      <td>121.54310</td>\n",
       "    </tr>\n",
       "  </tbody>\n",
       "</table>\n",
       "<p>414 rows × 6 columns</p>\n",
       "</div>"
      ],
      "text/plain": [
       "      transaction date  house age  distance to the nearest MRT station  \\\n",
       "0          2012.916667       32.0                             84.87882   \n",
       "1          2012.916667       19.5                            306.59470   \n",
       "2          2013.583333       13.3                            561.98450   \n",
       "3          2013.500000       13.3                            561.98450   \n",
       "4          2012.833333        5.0                            390.56840   \n",
       "..                 ...        ...                                  ...   \n",
       "409        2013.000000       13.7                           4082.01500   \n",
       "410        2012.666667        5.6                             90.45606   \n",
       "411        2013.250000       18.8                            390.96960   \n",
       "412        2013.000000        8.1                            104.81010   \n",
       "413        2013.500000        6.5                             90.45606   \n",
       "\n",
       "     number of convenience stores  latitude  longitude  \n",
       "0                              10  24.98298  121.54024  \n",
       "1                               9  24.98034  121.53951  \n",
       "2                               5  24.98746  121.54391  \n",
       "3                               5  24.98746  121.54391  \n",
       "4                               5  24.97937  121.54245  \n",
       "..                            ...       ...        ...  \n",
       "409                             0  24.94155  121.50381  \n",
       "410                             9  24.97433  121.54310  \n",
       "411                             7  24.97923  121.53986  \n",
       "412                             5  24.96674  121.54067  \n",
       "413                             9  24.97433  121.54310  \n",
       "\n",
       "[414 rows x 6 columns]"
      ]
     },
     "execution_count": 17,
     "metadata": {},
     "output_type": "execute_result"
    }
   ],
   "source": [
    "x"
   ]
  },
  {
   "cell_type": "code",
   "execution_count": 18,
   "id": "51f2f273",
   "metadata": {},
   "outputs": [
    {
     "data": {
      "text/plain": [
       "0      37.9\n",
       "1      42.2\n",
       "2      47.3\n",
       "3      54.8\n",
       "4      43.1\n",
       "       ... \n",
       "409    15.4\n",
       "410    50.0\n",
       "411    40.6\n",
       "412    52.5\n",
       "413    63.9\n",
       "Name: house price of unit area, Length: 414, dtype: float64"
      ]
     },
     "execution_count": 18,
     "metadata": {},
     "output_type": "execute_result"
    }
   ],
   "source": [
    "y"
   ]
  },
  {
   "cell_type": "markdown",
   "id": "50696493",
   "metadata": {},
   "source": [
    "#### Data Spilitting"
   ]
  },
  {
   "cell_type": "code",
   "execution_count": 37,
   "id": "29540d25",
   "metadata": {},
   "outputs": [],
   "source": [
    "x_train,x_test,y_train,y_test = train_test_split(x,y,train_size = 0.6,\n",
    "                                                random_state = 2)"
   ]
  },
  {
   "cell_type": "code",
   "execution_count": 38,
   "id": "1286c525",
   "metadata": {},
   "outputs": [
    {
     "data": {
      "text/html": [
       "<div>\n",
       "<style scoped>\n",
       "    .dataframe tbody tr th:only-of-type {\n",
       "        vertical-align: middle;\n",
       "    }\n",
       "\n",
       "    .dataframe tbody tr th {\n",
       "        vertical-align: top;\n",
       "    }\n",
       "\n",
       "    .dataframe thead th {\n",
       "        text-align: right;\n",
       "    }\n",
       "</style>\n",
       "<table border=\"1\" class=\"dataframe\">\n",
       "  <thead>\n",
       "    <tr style=\"text-align: right;\">\n",
       "      <th></th>\n",
       "      <th>transaction date</th>\n",
       "      <th>house age</th>\n",
       "      <th>distance to the nearest MRT station</th>\n",
       "      <th>number of convenience stores</th>\n",
       "      <th>latitude</th>\n",
       "      <th>longitude</th>\n",
       "    </tr>\n",
       "  </thead>\n",
       "  <tbody>\n",
       "    <tr>\n",
       "      <th>172</th>\n",
       "      <td>2013.583333</td>\n",
       "      <td>6.6</td>\n",
       "      <td>90.45606</td>\n",
       "      <td>9</td>\n",
       "      <td>24.97433</td>\n",
       "      <td>121.54310</td>\n",
       "    </tr>\n",
       "    <tr>\n",
       "      <th>57</th>\n",
       "      <td>2012.916667</td>\n",
       "      <td>3.5</td>\n",
       "      <td>56.47425</td>\n",
       "      <td>7</td>\n",
       "      <td>24.95744</td>\n",
       "      <td>121.53711</td>\n",
       "    </tr>\n",
       "    <tr>\n",
       "      <th>244</th>\n",
       "      <td>2013.083333</td>\n",
       "      <td>4.8</td>\n",
       "      <td>1559.82700</td>\n",
       "      <td>3</td>\n",
       "      <td>24.97213</td>\n",
       "      <td>121.51627</td>\n",
       "    </tr>\n",
       "    <tr>\n",
       "      <th>240</th>\n",
       "      <td>2013.083333</td>\n",
       "      <td>11.0</td>\n",
       "      <td>1712.63200</td>\n",
       "      <td>2</td>\n",
       "      <td>24.96412</td>\n",
       "      <td>121.51670</td>\n",
       "    </tr>\n",
       "    <tr>\n",
       "      <th>345</th>\n",
       "      <td>2012.666667</td>\n",
       "      <td>0.0</td>\n",
       "      <td>185.42960</td>\n",
       "      <td>0</td>\n",
       "      <td>24.97110</td>\n",
       "      <td>121.53170</td>\n",
       "    </tr>\n",
       "    <tr>\n",
       "      <th>...</th>\n",
       "      <td>...</td>\n",
       "      <td>...</td>\n",
       "      <td>...</td>\n",
       "      <td>...</td>\n",
       "      <td>...</td>\n",
       "      <td>...</td>\n",
       "    </tr>\n",
       "    <tr>\n",
       "      <th>299</th>\n",
       "      <td>2013.166667</td>\n",
       "      <td>33.2</td>\n",
       "      <td>121.72620</td>\n",
       "      <td>10</td>\n",
       "      <td>24.98178</td>\n",
       "      <td>121.54059</td>\n",
       "    </tr>\n",
       "    <tr>\n",
       "      <th>22</th>\n",
       "      <td>2012.916667</td>\n",
       "      <td>14.7</td>\n",
       "      <td>1360.13900</td>\n",
       "      <td>1</td>\n",
       "      <td>24.95204</td>\n",
       "      <td>121.54842</td>\n",
       "    </tr>\n",
       "    <tr>\n",
       "      <th>72</th>\n",
       "      <td>2013.583333</td>\n",
       "      <td>32.5</td>\n",
       "      <td>424.54420</td>\n",
       "      <td>8</td>\n",
       "      <td>24.97587</td>\n",
       "      <td>121.53913</td>\n",
       "    </tr>\n",
       "    <tr>\n",
       "      <th>15</th>\n",
       "      <td>2013.583333</td>\n",
       "      <td>35.7</td>\n",
       "      <td>579.20830</td>\n",
       "      <td>2</td>\n",
       "      <td>24.98240</td>\n",
       "      <td>121.54619</td>\n",
       "    </tr>\n",
       "    <tr>\n",
       "      <th>168</th>\n",
       "      <td>2013.083333</td>\n",
       "      <td>27.6</td>\n",
       "      <td>515.11220</td>\n",
       "      <td>5</td>\n",
       "      <td>24.96299</td>\n",
       "      <td>121.54320</td>\n",
       "    </tr>\n",
       "  </tbody>\n",
       "</table>\n",
       "<p>248 rows × 6 columns</p>\n",
       "</div>"
      ],
      "text/plain": [
       "      transaction date  house age  distance to the nearest MRT station  \\\n",
       "172        2013.583333        6.6                             90.45606   \n",
       "57         2012.916667        3.5                             56.47425   \n",
       "244        2013.083333        4.8                           1559.82700   \n",
       "240        2013.083333       11.0                           1712.63200   \n",
       "345        2012.666667        0.0                            185.42960   \n",
       "..                 ...        ...                                  ...   \n",
       "299        2013.166667       33.2                            121.72620   \n",
       "22         2012.916667       14.7                           1360.13900   \n",
       "72         2013.583333       32.5                            424.54420   \n",
       "15         2013.583333       35.7                            579.20830   \n",
       "168        2013.083333       27.6                            515.11220   \n",
       "\n",
       "     number of convenience stores  latitude  longitude  \n",
       "172                             9  24.97433  121.54310  \n",
       "57                              7  24.95744  121.53711  \n",
       "244                             3  24.97213  121.51627  \n",
       "240                             2  24.96412  121.51670  \n",
       "345                             0  24.97110  121.53170  \n",
       "..                            ...       ...        ...  \n",
       "299                            10  24.98178  121.54059  \n",
       "22                              1  24.95204  121.54842  \n",
       "72                              8  24.97587  121.53913  \n",
       "15                              2  24.98240  121.54619  \n",
       "168                             5  24.96299  121.54320  \n",
       "\n",
       "[248 rows x 6 columns]"
      ]
     },
     "execution_count": 38,
     "metadata": {},
     "output_type": "execute_result"
    }
   ],
   "source": [
    "x_train"
   ]
  },
  {
   "cell_type": "code",
   "execution_count": 39,
   "id": "fec7120e",
   "metadata": {},
   "outputs": [
    {
     "data": {
      "text/plain": [
       "172    58.1\n",
       "57     53.5\n",
       "244    21.7\n",
       "240    28.8\n",
       "345    37.9\n",
       "       ... \n",
       "299    46.1\n",
       "22     24.6\n",
       "72     36.3\n",
       "15     50.5\n",
       "168    37.4\n",
       "Name: house price of unit area, Length: 248, dtype: float64"
      ]
     },
     "execution_count": 39,
     "metadata": {},
     "output_type": "execute_result"
    }
   ],
   "source": [
    "y_train"
   ]
  },
  {
   "cell_type": "code",
   "execution_count": 40,
   "id": "d1a5b549",
   "metadata": {},
   "outputs": [
    {
     "data": {
      "text/html": [
       "<div>\n",
       "<style scoped>\n",
       "    .dataframe tbody tr th:only-of-type {\n",
       "        vertical-align: middle;\n",
       "    }\n",
       "\n",
       "    .dataframe tbody tr th {\n",
       "        vertical-align: top;\n",
       "    }\n",
       "\n",
       "    .dataframe thead th {\n",
       "        text-align: right;\n",
       "    }\n",
       "</style>\n",
       "<table border=\"1\" class=\"dataframe\">\n",
       "  <thead>\n",
       "    <tr style=\"text-align: right;\">\n",
       "      <th></th>\n",
       "      <th>transaction date</th>\n",
       "      <th>house age</th>\n",
       "      <th>distance to the nearest MRT station</th>\n",
       "      <th>number of convenience stores</th>\n",
       "      <th>latitude</th>\n",
       "      <th>longitude</th>\n",
       "    </tr>\n",
       "  </thead>\n",
       "  <tbody>\n",
       "    <tr>\n",
       "      <th>147</th>\n",
       "      <td>2012.750000</td>\n",
       "      <td>3.2</td>\n",
       "      <td>489.8821</td>\n",
       "      <td>8</td>\n",
       "      <td>24.97017</td>\n",
       "      <td>121.54494</td>\n",
       "    </tr>\n",
       "    <tr>\n",
       "      <th>217</th>\n",
       "      <td>2012.916667</td>\n",
       "      <td>28.0</td>\n",
       "      <td>372.6242</td>\n",
       "      <td>6</td>\n",
       "      <td>24.97838</td>\n",
       "      <td>121.54119</td>\n",
       "    </tr>\n",
       "    <tr>\n",
       "      <th>277</th>\n",
       "      <td>2013.416667</td>\n",
       "      <td>21.2</td>\n",
       "      <td>2185.1280</td>\n",
       "      <td>3</td>\n",
       "      <td>24.96322</td>\n",
       "      <td>121.51237</td>\n",
       "    </tr>\n",
       "    <tr>\n",
       "      <th>32</th>\n",
       "      <td>2012.750000</td>\n",
       "      <td>37.9</td>\n",
       "      <td>488.5727</td>\n",
       "      <td>1</td>\n",
       "      <td>24.97349</td>\n",
       "      <td>121.53451</td>\n",
       "    </tr>\n",
       "    <tr>\n",
       "      <th>182</th>\n",
       "      <td>2013.500000</td>\n",
       "      <td>13.5</td>\n",
       "      <td>2147.3760</td>\n",
       "      <td>3</td>\n",
       "      <td>24.96299</td>\n",
       "      <td>121.51284</td>\n",
       "    </tr>\n",
       "    <tr>\n",
       "      <th>...</th>\n",
       "      <td>...</td>\n",
       "      <td>...</td>\n",
       "      <td>...</td>\n",
       "      <td>...</td>\n",
       "      <td>...</td>\n",
       "      <td>...</td>\n",
       "    </tr>\n",
       "    <tr>\n",
       "      <th>186</th>\n",
       "      <td>2013.166667</td>\n",
       "      <td>20.9</td>\n",
       "      <td>2185.1280</td>\n",
       "      <td>3</td>\n",
       "      <td>24.96322</td>\n",
       "      <td>121.51237</td>\n",
       "    </tr>\n",
       "    <tr>\n",
       "      <th>356</th>\n",
       "      <td>2012.833333</td>\n",
       "      <td>10.3</td>\n",
       "      <td>211.4473</td>\n",
       "      <td>1</td>\n",
       "      <td>24.97417</td>\n",
       "      <td>121.52999</td>\n",
       "    </tr>\n",
       "    <tr>\n",
       "      <th>256</th>\n",
       "      <td>2012.666667</td>\n",
       "      <td>14.6</td>\n",
       "      <td>339.2289</td>\n",
       "      <td>1</td>\n",
       "      <td>24.97519</td>\n",
       "      <td>121.53151</td>\n",
       "    </tr>\n",
       "    <tr>\n",
       "      <th>126</th>\n",
       "      <td>2013.083333</td>\n",
       "      <td>38.6</td>\n",
       "      <td>804.6897</td>\n",
       "      <td>4</td>\n",
       "      <td>24.97838</td>\n",
       "      <td>121.53477</td>\n",
       "    </tr>\n",
       "    <tr>\n",
       "      <th>127</th>\n",
       "      <td>2013.250000</td>\n",
       "      <td>3.8</td>\n",
       "      <td>383.8624</td>\n",
       "      <td>5</td>\n",
       "      <td>24.98085</td>\n",
       "      <td>121.54391</td>\n",
       "    </tr>\n",
       "  </tbody>\n",
       "</table>\n",
       "<p>166 rows × 6 columns</p>\n",
       "</div>"
      ],
      "text/plain": [
       "      transaction date  house age  distance to the nearest MRT station  \\\n",
       "147        2012.750000        3.2                             489.8821   \n",
       "217        2012.916667       28.0                             372.6242   \n",
       "277        2013.416667       21.2                            2185.1280   \n",
       "32         2012.750000       37.9                             488.5727   \n",
       "182        2013.500000       13.5                            2147.3760   \n",
       "..                 ...        ...                                  ...   \n",
       "186        2013.166667       20.9                            2185.1280   \n",
       "356        2012.833333       10.3                             211.4473   \n",
       "256        2012.666667       14.6                             339.2289   \n",
       "126        2013.083333       38.6                             804.6897   \n",
       "127        2013.250000        3.8                             383.8624   \n",
       "\n",
       "     number of convenience stores  latitude  longitude  \n",
       "147                             8  24.97017  121.54494  \n",
       "217                             6  24.97838  121.54119  \n",
       "277                             3  24.96322  121.51237  \n",
       "32                              1  24.97349  121.53451  \n",
       "182                             3  24.96299  121.51284  \n",
       "..                            ...       ...        ...  \n",
       "186                             3  24.96322  121.51237  \n",
       "356                             1  24.97417  121.52999  \n",
       "256                             1  24.97519  121.53151  \n",
       "126                             4  24.97838  121.53477  \n",
       "127                             5  24.98085  121.54391  \n",
       "\n",
       "[166 rows x 6 columns]"
      ]
     },
     "execution_count": 40,
     "metadata": {},
     "output_type": "execute_result"
    }
   ],
   "source": [
    "x_test"
   ]
  },
  {
   "cell_type": "code",
   "execution_count": 41,
   "id": "0b98b527",
   "metadata": {},
   "outputs": [
    {
     "data": {
      "text/plain": [
       "147    43.2\n",
       "217    40.8\n",
       "277    27.7\n",
       "32     34.2\n",
       "182    23.6\n",
       "       ... \n",
       "186    25.7\n",
       "356    45.3\n",
       "256    26.5\n",
       "126    62.9\n",
       "127    55.0\n",
       "Name: house price of unit area, Length: 166, dtype: float64"
      ]
     },
     "execution_count": 41,
     "metadata": {},
     "output_type": "execute_result"
    }
   ],
   "source": [
    "y_test"
   ]
  },
  {
   "cell_type": "markdown",
   "id": "4d343996",
   "metadata": {},
   "source": [
    "#### Creating Instance of linear Regression"
   ]
  },
  {
   "cell_type": "code",
   "execution_count": 42,
   "id": "dda4279a",
   "metadata": {},
   "outputs": [
    {
     "data": {
      "text/html": [
       "<style>#sk-container-id-3 {color: black;background-color: white;}#sk-container-id-3 pre{padding: 0;}#sk-container-id-3 div.sk-toggleable {background-color: white;}#sk-container-id-3 label.sk-toggleable__label {cursor: pointer;display: block;width: 100%;margin-bottom: 0;padding: 0.3em;box-sizing: border-box;text-align: center;}#sk-container-id-3 label.sk-toggleable__label-arrow:before {content: \"▸\";float: left;margin-right: 0.25em;color: #696969;}#sk-container-id-3 label.sk-toggleable__label-arrow:hover:before {color: black;}#sk-container-id-3 div.sk-estimator:hover label.sk-toggleable__label-arrow:before {color: black;}#sk-container-id-3 div.sk-toggleable__content {max-height: 0;max-width: 0;overflow: hidden;text-align: left;background-color: #f0f8ff;}#sk-container-id-3 div.sk-toggleable__content pre {margin: 0.2em;color: black;border-radius: 0.25em;background-color: #f0f8ff;}#sk-container-id-3 input.sk-toggleable__control:checked~div.sk-toggleable__content {max-height: 200px;max-width: 100%;overflow: auto;}#sk-container-id-3 input.sk-toggleable__control:checked~label.sk-toggleable__label-arrow:before {content: \"▾\";}#sk-container-id-3 div.sk-estimator input.sk-toggleable__control:checked~label.sk-toggleable__label {background-color: #d4ebff;}#sk-container-id-3 div.sk-label input.sk-toggleable__control:checked~label.sk-toggleable__label {background-color: #d4ebff;}#sk-container-id-3 input.sk-hidden--visually {border: 0;clip: rect(1px 1px 1px 1px);clip: rect(1px, 1px, 1px, 1px);height: 1px;margin: -1px;overflow: hidden;padding: 0;position: absolute;width: 1px;}#sk-container-id-3 div.sk-estimator {font-family: monospace;background-color: #f0f8ff;border: 1px dotted black;border-radius: 0.25em;box-sizing: border-box;margin-bottom: 0.5em;}#sk-container-id-3 div.sk-estimator:hover {background-color: #d4ebff;}#sk-container-id-3 div.sk-parallel-item::after {content: \"\";width: 100%;border-bottom: 1px solid gray;flex-grow: 1;}#sk-container-id-3 div.sk-label:hover label.sk-toggleable__label {background-color: #d4ebff;}#sk-container-id-3 div.sk-serial::before {content: \"\";position: absolute;border-left: 1px solid gray;box-sizing: border-box;top: 0;bottom: 0;left: 50%;z-index: 0;}#sk-container-id-3 div.sk-serial {display: flex;flex-direction: column;align-items: center;background-color: white;padding-right: 0.2em;padding-left: 0.2em;position: relative;}#sk-container-id-3 div.sk-item {position: relative;z-index: 1;}#sk-container-id-3 div.sk-parallel {display: flex;align-items: stretch;justify-content: center;background-color: white;position: relative;}#sk-container-id-3 div.sk-item::before, #sk-container-id-3 div.sk-parallel-item::before {content: \"\";position: absolute;border-left: 1px solid gray;box-sizing: border-box;top: 0;bottom: 0;left: 50%;z-index: -1;}#sk-container-id-3 div.sk-parallel-item {display: flex;flex-direction: column;z-index: 1;position: relative;background-color: white;}#sk-container-id-3 div.sk-parallel-item:first-child::after {align-self: flex-end;width: 50%;}#sk-container-id-3 div.sk-parallel-item:last-child::after {align-self: flex-start;width: 50%;}#sk-container-id-3 div.sk-parallel-item:only-child::after {width: 0;}#sk-container-id-3 div.sk-dashed-wrapped {border: 1px dashed gray;margin: 0 0.4em 0.5em 0.4em;box-sizing: border-box;padding-bottom: 0.4em;background-color: white;}#sk-container-id-3 div.sk-label label {font-family: monospace;font-weight: bold;display: inline-block;line-height: 1.2em;}#sk-container-id-3 div.sk-label-container {text-align: center;}#sk-container-id-3 div.sk-container {/* jupyter's `normalize.less` sets `[hidden] { display: none; }` but bootstrap.min.css set `[hidden] { display: none !important; }` so we also need the `!important` here to be able to override the default hidden behavior on the sphinx rendered scikit-learn.org. See: https://github.com/scikit-learn/scikit-learn/issues/21755 */display: inline-block !important;position: relative;}#sk-container-id-3 div.sk-text-repr-fallback {display: none;}</style><div id=\"sk-container-id-3\" class=\"sk-top-container\"><div class=\"sk-text-repr-fallback\"><pre>LinearRegression()</pre><b>In a Jupyter environment, please rerun this cell to show the HTML representation or trust the notebook. <br />On GitHub, the HTML representation is unable to render, please try loading this page with nbviewer.org.</b></div><div class=\"sk-container\" hidden><div class=\"sk-item\"><div class=\"sk-estimator sk-toggleable\"><input class=\"sk-toggleable__control sk-hidden--visually\" id=\"sk-estimator-id-3\" type=\"checkbox\" checked><label for=\"sk-estimator-id-3\" class=\"sk-toggleable__label sk-toggleable__label-arrow\">LinearRegression</label><div class=\"sk-toggleable__content\"><pre>LinearRegression()</pre></div></div></div></div></div>"
      ],
      "text/plain": [
       "LinearRegression()"
      ]
     },
     "execution_count": 42,
     "metadata": {},
     "output_type": "execute_result"
    }
   ],
   "source": [
    "linear_reg = LinearRegression()\n",
    "linear_reg"
   ]
  },
  {
   "cell_type": "code",
   "execution_count": 93,
   "id": "d307ea1c",
   "metadata": {},
   "outputs": [
    {
     "data": {
      "text/html": [
       "<style>#sk-container-id-7 {color: black;background-color: white;}#sk-container-id-7 pre{padding: 0;}#sk-container-id-7 div.sk-toggleable {background-color: white;}#sk-container-id-7 label.sk-toggleable__label {cursor: pointer;display: block;width: 100%;margin-bottom: 0;padding: 0.3em;box-sizing: border-box;text-align: center;}#sk-container-id-7 label.sk-toggleable__label-arrow:before {content: \"▸\";float: left;margin-right: 0.25em;color: #696969;}#sk-container-id-7 label.sk-toggleable__label-arrow:hover:before {color: black;}#sk-container-id-7 div.sk-estimator:hover label.sk-toggleable__label-arrow:before {color: black;}#sk-container-id-7 div.sk-toggleable__content {max-height: 0;max-width: 0;overflow: hidden;text-align: left;background-color: #f0f8ff;}#sk-container-id-7 div.sk-toggleable__content pre {margin: 0.2em;color: black;border-radius: 0.25em;background-color: #f0f8ff;}#sk-container-id-7 input.sk-toggleable__control:checked~div.sk-toggleable__content {max-height: 200px;max-width: 100%;overflow: auto;}#sk-container-id-7 input.sk-toggleable__control:checked~label.sk-toggleable__label-arrow:before {content: \"▾\";}#sk-container-id-7 div.sk-estimator input.sk-toggleable__control:checked~label.sk-toggleable__label {background-color: #d4ebff;}#sk-container-id-7 div.sk-label input.sk-toggleable__control:checked~label.sk-toggleable__label {background-color: #d4ebff;}#sk-container-id-7 input.sk-hidden--visually {border: 0;clip: rect(1px 1px 1px 1px);clip: rect(1px, 1px, 1px, 1px);height: 1px;margin: -1px;overflow: hidden;padding: 0;position: absolute;width: 1px;}#sk-container-id-7 div.sk-estimator {font-family: monospace;background-color: #f0f8ff;border: 1px dotted black;border-radius: 0.25em;box-sizing: border-box;margin-bottom: 0.5em;}#sk-container-id-7 div.sk-estimator:hover {background-color: #d4ebff;}#sk-container-id-7 div.sk-parallel-item::after {content: \"\";width: 100%;border-bottom: 1px solid gray;flex-grow: 1;}#sk-container-id-7 div.sk-label:hover label.sk-toggleable__label {background-color: #d4ebff;}#sk-container-id-7 div.sk-serial::before {content: \"\";position: absolute;border-left: 1px solid gray;box-sizing: border-box;top: 0;bottom: 0;left: 50%;z-index: 0;}#sk-container-id-7 div.sk-serial {display: flex;flex-direction: column;align-items: center;background-color: white;padding-right: 0.2em;padding-left: 0.2em;position: relative;}#sk-container-id-7 div.sk-item {position: relative;z-index: 1;}#sk-container-id-7 div.sk-parallel {display: flex;align-items: stretch;justify-content: center;background-color: white;position: relative;}#sk-container-id-7 div.sk-item::before, #sk-container-id-7 div.sk-parallel-item::before {content: \"\";position: absolute;border-left: 1px solid gray;box-sizing: border-box;top: 0;bottom: 0;left: 50%;z-index: -1;}#sk-container-id-7 div.sk-parallel-item {display: flex;flex-direction: column;z-index: 1;position: relative;background-color: white;}#sk-container-id-7 div.sk-parallel-item:first-child::after {align-self: flex-end;width: 50%;}#sk-container-id-7 div.sk-parallel-item:last-child::after {align-self: flex-start;width: 50%;}#sk-container-id-7 div.sk-parallel-item:only-child::after {width: 0;}#sk-container-id-7 div.sk-dashed-wrapped {border: 1px dashed gray;margin: 0 0.4em 0.5em 0.4em;box-sizing: border-box;padding-bottom: 0.4em;background-color: white;}#sk-container-id-7 div.sk-label label {font-family: monospace;font-weight: bold;display: inline-block;line-height: 1.2em;}#sk-container-id-7 div.sk-label-container {text-align: center;}#sk-container-id-7 div.sk-container {/* jupyter's `normalize.less` sets `[hidden] { display: none; }` but bootstrap.min.css set `[hidden] { display: none !important; }` so we also need the `!important` here to be able to override the default hidden behavior on the sphinx rendered scikit-learn.org. See: https://github.com/scikit-learn/scikit-learn/issues/21755 */display: inline-block !important;position: relative;}#sk-container-id-7 div.sk-text-repr-fallback {display: none;}</style><div id=\"sk-container-id-7\" class=\"sk-top-container\"><div class=\"sk-text-repr-fallback\"><pre>LinearRegression()</pre><b>In a Jupyter environment, please rerun this cell to show the HTML representation or trust the notebook. <br />On GitHub, the HTML representation is unable to render, please try loading this page with nbviewer.org.</b></div><div class=\"sk-container\" hidden><div class=\"sk-item\"><div class=\"sk-estimator sk-toggleable\"><input class=\"sk-toggleable__control sk-hidden--visually\" id=\"sk-estimator-id-7\" type=\"checkbox\" checked><label for=\"sk-estimator-id-7\" class=\"sk-toggleable__label sk-toggleable__label-arrow\">LinearRegression</label><div class=\"sk-toggleable__content\"><pre>LinearRegression()</pre></div></div></div></div></div>"
      ],
      "text/plain": [
       "LinearRegression()"
      ]
     },
     "execution_count": 93,
     "metadata": {},
     "output_type": "execute_result"
    }
   ],
   "source": [
    "linear_reg.fit(x_train,y_train)"
   ]
  },
  {
   "cell_type": "code",
   "execution_count": 94,
   "id": "2668c1d1",
   "metadata": {},
   "outputs": [
    {
     "data": {
      "text/plain": [
       "array([ 6.82746565e+00, -3.70163344e-01, -3.63637238e-03,  1.33218276e+00,\n",
       "        2.31807909e+02,  1.54421840e+01])"
      ]
     },
     "execution_count": 94,
     "metadata": {},
     "output_type": "execute_result"
    }
   ],
   "source": [
    "linear_reg.coef_"
   ]
  },
  {
   "cell_type": "code",
   "execution_count": 95,
   "id": "c809a453",
   "metadata": {},
   "outputs": [
    {
     "data": {
      "text/plain": [
       "array([  6.83,  -0.37,  -0.  ,   1.33, 231.81,  15.44])"
      ]
     },
     "execution_count": 95,
     "metadata": {},
     "output_type": "execute_result"
    }
   ],
   "source": [
    "np.around(linear_reg.coef_,2)"
   ]
  },
  {
   "cell_type": "code",
   "execution_count": 96,
   "id": "0853e796",
   "metadata": {},
   "outputs": [
    {
     "data": {
      "text/plain": [
       "-21367.002366543704"
      ]
     },
     "execution_count": 96,
     "metadata": {},
     "output_type": "execute_result"
    }
   ],
   "source": [
    "linear_reg.intercept_"
   ]
  },
  {
   "cell_type": "code",
   "execution_count": 97,
   "id": "191624f2",
   "metadata": {},
   "outputs": [
    {
     "data": {
      "text/plain": [
       "-21367.0"
      ]
     },
     "execution_count": 97,
     "metadata": {},
     "output_type": "execute_result"
    }
   ],
   "source": [
    "np.around(linear_reg.intercept_,1)"
   ]
  },
  {
   "cell_type": "markdown",
   "id": "02f8b564",
   "metadata": {},
   "source": [
    "#### 7.Model Evaluation"
   ]
  },
  {
   "cell_type": "markdown",
   "id": "04910cca",
   "metadata": {},
   "source": [
    "##### 1.Testing Data Evaluation"
   ]
  },
  {
   "cell_type": "code",
   "execution_count": 98,
   "id": "547c4235",
   "metadata": {},
   "outputs": [
    {
     "name": "stdout",
     "output_type": "stream",
     "text": [
      "Mean Squared Error is : 104.61870829520505\n",
      "Root Mean Squared Error is : 10.228328714663263\n",
      " Mean absolute Error is : 6.75373777875869\n",
      " R_Square value is : 0.5134689828483973\n",
      "Adjusted R_Square value is : 0.4951093218238085\n"
     ]
    }
   ],
   "source": [
    "y_pred = linear_reg.predict(x_test)\n",
    "\n",
    "mse = mean_squared_error(y_test,y_pred)\n",
    "print(\"Mean Squared Error is :\",mse)\n",
    "\n",
    "rmse = np.sqrt(mse)\n",
    "print(\"Root Mean Squared Error is :\",rmse)\n",
    "\n",
    "mae = mean_absolute_error(y_test,y_pred)\n",
    "print(\" Mean absolute Error is :\",mae)\n",
    "\n",
    "r2_value = r2_score(y_test,y_pred)\n",
    "print(\" R_Square value is :\",r2_value)\n",
    "\n",
    "n = x_test.shape[0]\n",
    "k = x_test.shape[1]\n",
    "adj_r1 = 1-((1-r2_value)*(n-1)/(n-k-1))\n",
    "print(\"Adjusted R_Square value is :\",adj_r1)"
   ]
  },
  {
   "cell_type": "markdown",
   "id": "4f1a11c2",
   "metadata": {},
   "source": [
    "##### 2.Training Data Evaluation"
   ]
  },
  {
   "cell_type": "code",
   "execution_count": 99,
   "id": "ed7181ea",
   "metadata": {},
   "outputs": [
    {
     "name": "stdout",
     "output_type": "stream",
     "text": [
      "Mean Squared Error is : 62.34850273557723\n",
      "Root Mean Squared Error is : 7.89610680877464\n",
      " Mean absolute Error is : 5.703269636997539\n",
      " R_Square value is : 0.6201879094642159\n",
      "Adjusted R_Square value is : 0.6107320067952752\n"
     ]
    }
   ],
   "source": [
    "y_pred_train  = linear_reg.predict(x_train)\n",
    "\n",
    "mse = mean_squared_error(y_train,y_pred_train)\n",
    "print(\"Mean Squared Error is :\",mse)\n",
    "\n",
    "rmse = np.sqrt(mse)\n",
    "print(\"Root Mean Squared Error is :\",rmse)\n",
    "\n",
    "mae = mean_absolute_error(y_train,y_pred_train)\n",
    "print(\" Mean absolute Error is :\",mae)\n",
    "\n",
    "r2_value = r2_score(y_train,y_pred_train)\n",
    "print(\" R_Square value is :\",r2_value)\n",
    "\n",
    "n = x_train.shape[0]\n",
    "k = x_train.shape[1]\n",
    "adj_r1 = 1-((1-r2_value)*(n-1)/(n-k-1))\n",
    "print(\"Adjusted R_Square value is :\",adj_r1)"
   ]
  },
  {
   "cell_type": "code",
   "execution_count": 100,
   "id": "beace747",
   "metadata": {},
   "outputs": [],
   "source": [
    "r_squared_list = []\n",
    "adj_r2_list = []\n",
    "for i in range(1,x_train.shape[1]+1):\n",
    "    linear_reg_model = LinearRegression()\n",
    "    linear_reg_model.fit(x_train.iloc[:,:i],y_train)\n",
    "    r2_value = linear_reg_model.score(x_train.iloc[:,:i],y_train)\n",
    "    r_squared_list.append(r2_value)\n",
    "    \n",
    "    n = x_train.shape[0]\n",
    "    k = i\n",
    "    adj_r2 = 1-((1-r2_value)*(n-1))/(n-k-1)\n",
    "    adj_r2_list.append(adj_r2)"
   ]
  },
  {
   "cell_type": "code",
   "execution_count": 101,
   "id": "0ab0a1db",
   "metadata": {},
   "outputs": [
    {
     "data": {
      "text/plain": [
       "[0.008856689735516121,\n",
       " 0.08842482088120007,\n",
       " 0.5214440234698013,\n",
       " 0.594273752619073,\n",
       " 0.6200742071519695,\n",
       " 0.6201879094642159]"
      ]
     },
     "execution_count": 101,
     "metadata": {},
     "output_type": "execute_result"
    }
   ],
   "source": [
    "r_squared_list"
   ]
  },
  {
   "cell_type": "code",
   "execution_count": 102,
   "id": "e8556681",
   "metadata": {},
   "outputs": [
    {
     "data": {
      "text/plain": [
       "[0.004827651888912432,\n",
       " 0.08098339084757722,\n",
       " 0.5155601385124629,\n",
       " 0.5875951312630083,\n",
       " 0.6122245006881673,\n",
       " 0.6107320067952752]"
      ]
     },
     "execution_count": 102,
     "metadata": {},
     "output_type": "execute_result"
    }
   ],
   "source": [
    "adj_r2_list"
   ]
  },
  {
   "cell_type": "code",
   "execution_count": 103,
   "id": "2f78749c",
   "metadata": {},
   "outputs": [
    {
     "data": {
      "text/plain": [
       " transaction date                      0.094110\n",
       "house age                             -0.274827\n",
       "distance to the nearest MRT station   -0.667155\n",
       "number of convenience stores           0.556349\n",
       "latitude                               0.538165\n",
       "longitude                              0.500678\n",
       "TARGET                                 1.000000\n",
       "Name: TARGET, dtype: float64"
      ]
     },
     "execution_count": 103,
     "metadata": {},
     "output_type": "execute_result"
    }
   ],
   "source": [
    "new_x_train = x_train.copy()\n",
    "new_x_train['TARGET'] = y_train\n",
    "new_x_train.corr()['TARGET']"
   ]
  },
  {
   "cell_type": "code",
   "execution_count": 104,
   "id": "8970b0c0",
   "metadata": {},
   "outputs": [
    {
     "data": {
      "text/html": [
       "<div>\n",
       "<style scoped>\n",
       "    .dataframe tbody tr th:only-of-type {\n",
       "        vertical-align: middle;\n",
       "    }\n",
       "\n",
       "    .dataframe tbody tr th {\n",
       "        vertical-align: top;\n",
       "    }\n",
       "\n",
       "    .dataframe thead th {\n",
       "        text-align: right;\n",
       "    }\n",
       "</style>\n",
       "<table border=\"1\" class=\"dataframe\">\n",
       "  <thead>\n",
       "    <tr style=\"text-align: right;\">\n",
       "      <th></th>\n",
       "      <th>Correlation</th>\n",
       "      <th>R_Squared</th>\n",
       "      <th>Adj R_Squared</th>\n",
       "    </tr>\n",
       "  </thead>\n",
       "  <tbody>\n",
       "    <tr>\n",
       "      <th>transaction date</th>\n",
       "      <td>0.094110</td>\n",
       "      <td>0.008857</td>\n",
       "      <td>0.004828</td>\n",
       "    </tr>\n",
       "    <tr>\n",
       "      <th>house age</th>\n",
       "      <td>-0.274827</td>\n",
       "      <td>0.088425</td>\n",
       "      <td>0.080983</td>\n",
       "    </tr>\n",
       "    <tr>\n",
       "      <th>distance to the nearest MRT station</th>\n",
       "      <td>-0.667155</td>\n",
       "      <td>0.521444</td>\n",
       "      <td>0.515560</td>\n",
       "    </tr>\n",
       "    <tr>\n",
       "      <th>number of convenience stores</th>\n",
       "      <td>0.556349</td>\n",
       "      <td>0.594274</td>\n",
       "      <td>0.587595</td>\n",
       "    </tr>\n",
       "    <tr>\n",
       "      <th>latitude</th>\n",
       "      <td>0.538165</td>\n",
       "      <td>0.620074</td>\n",
       "      <td>0.612225</td>\n",
       "    </tr>\n",
       "    <tr>\n",
       "      <th>longitude</th>\n",
       "      <td>0.500678</td>\n",
       "      <td>0.620188</td>\n",
       "      <td>0.610732</td>\n",
       "    </tr>\n",
       "  </tbody>\n",
       "</table>\n",
       "</div>"
      ],
      "text/plain": [
       "                                     Correlation  R_Squared  Adj R_Squared\n",
       " transaction date                       0.094110   0.008857       0.004828\n",
       "house age                              -0.274827   0.088425       0.080983\n",
       "distance to the nearest MRT station    -0.667155   0.521444       0.515560\n",
       "number of convenience stores            0.556349   0.594274       0.587595\n",
       "latitude                                0.538165   0.620074       0.612225\n",
       "longitude                               0.500678   0.620188       0.610732"
      ]
     },
     "execution_count": 104,
     "metadata": {},
     "output_type": "execute_result"
    }
   ],
   "source": [
    "r2_data = {'Correlation':new_x_train.corr()['TARGET'],\n",
    "           'R_Squared':r_squared_list,\n",
    "       'Adj R_Squared':adj_r2_list\n",
    "           }\n",
    "r2_df = pd.DataFrame(r2_data, index = x_train.columns)\n",
    "r2_df"
   ]
  },
  {
   "cell_type": "markdown",
   "id": "5fb3eb8d",
   "metadata": {},
   "source": [
    "#### Assumptions"
   ]
  },
  {
   "cell_type": "markdown",
   "id": "7bb82adf",
   "metadata": {},
   "source": [
    "##### 1.Normality of Residual"
   ]
  },
  {
   "cell_type": "code",
   "execution_count": 105,
   "id": "f2741084",
   "metadata": {},
   "outputs": [
    {
     "data": {
      "text/plain": [
       "172     2.075563\n",
       "57      7.428229\n",
       "244   -17.316431\n",
       "240    -4.183438\n",
       "345    -1.049221\n",
       "         ...    \n",
       "299    -0.139997\n",
       "22     -3.515123\n",
       "72     -7.885833\n",
       "15     14.431475\n",
       "168     2.062822\n",
       "Name: house price of unit area, Length: 248, dtype: float64"
      ]
     },
     "execution_count": 105,
     "metadata": {},
     "output_type": "execute_result"
    }
   ],
   "source": [
    "residual = y_train - y_pred_train\n",
    "residual"
   ]
  },
  {
   "cell_type": "markdown",
   "id": "61d7edff",
   "metadata": {},
   "source": [
    "#### Checking Normality of residual"
   ]
  },
  {
   "cell_type": "markdown",
   "id": "fbf76f77",
   "metadata": {},
   "source": [
    "##### 1.kdeplot"
   ]
  },
  {
   "cell_type": "code",
   "execution_count": 106,
   "id": "8ffa6f52",
   "metadata": {},
   "outputs": [
    {
     "data": {
      "text/plain": [
       "<Axes: xlabel='house price of unit area', ylabel='Density'>"
      ]
     },
     "execution_count": 106,
     "metadata": {},
     "output_type": "execute_result"
    },
    {
     "data": {
      "image/png": "[encoded data removed]",
      "text/plain": [
       "<Figure size 640x480 with 1 Axes>"
      ]
     },
     "metadata": {},
     "output_type": "display_data"
    }
   ],
   "source": [
    "sns.kdeplot(residual,fill = True)"
   ]
  },
  {
   "cell_type": "markdown",
   "id": "4fe19db9",
   "metadata": {},
   "source": [
    "##### 2.Histplot"
   ]
  },
  {
   "cell_type": "code",
   "execution_count": 107,
   "id": "3292d748",
   "metadata": {},
   "outputs": [
    {
     "data": {
      "text/plain": [
       "<Axes: xlabel='house price of unit area', ylabel='Count'>"
      ]
     },
     "execution_count": 107,
     "metadata": {},
     "output_type": "execute_result"
    },
    {
     "data": {
      "image/png": "[encoded data removed]",
      "text/plain": [
       "<Figure size 640x480 with 1 Axes>"
      ]
     },
     "metadata": {},
     "output_type": "display_data"
    }
   ],
   "source": [
    "sns.histplot(residual)"
   ]
  },
  {
   "cell_type": "code",
   "execution_count": 108,
   "id": "966e1763",
   "metadata": {},
   "outputs": [
    {
     "data": {
      "text/plain": [
       "<Axes: xlabel='house price of unit area', ylabel='Count'>"
      ]
     },
     "execution_count": 108,
     "metadata": {},
     "output_type": "execute_result"
    },
    {
     "data": {
      "image/png": "[encoded data removed]",
      "text/plain": [
       "<Figure size 640x480 with 1 Axes>"
      ]
     },
     "metadata": {},
     "output_type": "display_data"
    }
   ],
   "source": [
    "sns.histplot(residual,kde = True)"
   ]
  },
  {
   "cell_type": "markdown",
   "id": "2e6d1d90",
   "metadata": {},
   "source": [
    "##### 3.Distplot"
   ]
  },
  {
   "cell_type": "code",
   "execution_count": 109,
   "id": "3b67df59",
   "metadata": {},
   "outputs": [
    {
     "data": {
      "text/plain": [
       "<Axes: xlabel='house price of unit area', ylabel='Density'>"
      ]
     },
     "execution_count": 109,
     "metadata": {},
     "output_type": "execute_result"
    },
    {
     "data": {
      "image/png": "[encoded data removed]",
      "text/plain": [
       "<Figure size 640x480 with 1 Axes>"
      ]
     },
     "metadata": {},
     "output_type": "display_data"
    }
   ],
   "source": [
    "sns.distplot(residual)"
   ]
  },
  {
   "cell_type": "markdown",
   "id": "e2ad2c9e",
   "metadata": {},
   "source": [
    "#### 2.QQ Plot"
   ]
  },
  {
   "cell_type": "code",
   "execution_count": 110,
   "id": "d5d3c5c8",
   "metadata": {},
   "outputs": [],
   "source": [
    "import statsmodels.api as sm"
   ]
  },
  {
   "cell_type": "code",
   "execution_count": 111,
   "id": "78bf5477",
   "metadata": {},
   "outputs": [
    {
     "data": {
      "image/png": "[encoded data removed]",
      "text/plain": [
       "<Figure size 640x480 with 1 Axes>"
      ]
     },
     "execution_count": 111,
     "metadata": {},
     "output_type": "execute_result"
    },
    {
     "data": {
      "image/png": "[encoded data removed]",
      "text/plain": [
       "<Figure size 640x480 with 1 Axes>"
      ]
     },
     "metadata": {},
     "output_type": "display_data"
    }
   ],
   "source": [
    "sm.qqplot(residual,line = \"45\",fit = True)"
   ]
  },
  {
   "cell_type": "markdown",
   "id": "5b833569",
   "metadata": {},
   "source": [
    "#### 3.Hypothesis testing"
   ]
  },
  {
   "cell_type": "markdown",
   "id": "09f9ba17",
   "metadata": {},
   "source": [
    "##### 1.shapiro testing"
   ]
  },
  {
   "cell_type": "code",
   "execution_count": 112,
   "id": "c6e134ba",
   "metadata": {},
   "outputs": [],
   "source": [
    "from scipy.stats import shapiro"
   ]
  },
  {
   "cell_type": "code",
   "execution_count": 113,
   "id": "94a3ff03",
   "metadata": {},
   "outputs": [
    {
     "name": "stdout",
     "output_type": "stream",
     "text": [
      "0.9394744038581848\n",
      "1.3842344159797904e-08\n"
     ]
    }
   ],
   "source": [
    "stats,p_val = shapiro(residual)\n",
    "print(stats)\n",
    "print(p_val)"
   ]
  },
  {
   "cell_type": "code",
   "execution_count": 114,
   "id": "eadfba5b",
   "metadata": {},
   "outputs": [
    {
     "name": "stdout",
     "output_type": "stream",
     "text": [
      "P Value is : 1.3842344159797904e-08\n",
      "Data is not normally distributed\n",
      "Alternate hypothesis is true\n"
     ]
    }
   ],
   "source": [
    "_,p_val = shapiro(residual)\n",
    "print('P Value is :',p_val)\n",
    "\n",
    "if p_val >= 0.05:\n",
    "    print('Data is normally distributed')\n",
    "    print('Null hypothesis is true')\n",
    "else:\n",
    "    print('Data is not normally distributed')\n",
    "    print('Alternate hypothesis is true')"
   ]
  },
  {
   "cell_type": "markdown",
   "id": "c2dc310f",
   "metadata": {},
   "source": [
    "##### 2.ks test"
   ]
  },
  {
   "cell_type": "code",
   "execution_count": 115,
   "id": "9da6c579",
   "metadata": {},
   "outputs": [],
   "source": [
    "from scipy.stats import kstest"
   ]
  },
  {
   "cell_type": "code",
   "execution_count": 116,
   "id": "f5d8e947",
   "metadata": {},
   "outputs": [
    {
     "data": {
      "text/plain": [
       "172     2.075563\n",
       "57      7.428229\n",
       "244   -17.316431\n",
       "240    -4.183438\n",
       "345    -1.049221\n",
       "         ...    \n",
       "299    -0.139997\n",
       "22     -3.515123\n",
       "72     -7.885833\n",
       "15     14.431475\n",
       "168     2.062822\n",
       "Name: house price of unit area, Length: 248, dtype: float64"
      ]
     },
     "execution_count": 116,
     "metadata": {},
     "output_type": "execute_result"
    }
   ],
   "source": [
    "residual = y_train - y_pred_train\n",
    "residual"
   ]
  },
  {
   "cell_type": "code",
   "execution_count": 117,
   "id": "05d8b1fb",
   "metadata": {},
   "outputs": [
    {
     "name": "stdout",
     "output_type": "stream",
     "text": [
      "P Value is : 9.534872366291775e-34\n",
      "Data is not normally distributed\n",
      "Alternate hypothesis is true\n"
     ]
    }
   ],
   "source": [
    "_,p_val = kstest(residual,'norm')\n",
    "print('P Value is :',p_val)\n",
    "\n",
    "if p_val >= 0.05:\n",
    "    print('Data is normally distributed')\n",
    "    print('Null hypothesis is true')\n",
    "else:\n",
    "    print('Data is not normally distributed')\n",
    "    print('Alternate hypothesis is true')"
   ]
  },
  {
   "cell_type": "markdown",
   "id": "0bf420d8",
   "metadata": {},
   "source": [
    "##### 3.Normal test"
   ]
  },
  {
   "cell_type": "code",
   "execution_count": 118,
   "id": "c3a71171",
   "metadata": {},
   "outputs": [],
   "source": [
    "from scipy.stats import normaltest"
   ]
  },
  {
   "cell_type": "code",
   "execution_count": 119,
   "id": "d9469426",
   "metadata": {},
   "outputs": [
    {
     "name": "stdout",
     "output_type": "stream",
     "text": [
      "P Value is : 3.6105750759828395e-10\n",
      "Data is not normally distributed\n",
      "Alternate Hypothesis is True\n"
     ]
    }
   ],
   "source": [
    "_, p_val = normaltest(residual)\n",
    "print(\"P Value is :\", p_val)\n",
    "\n",
    "if p_val >= 0.05:\n",
    "    print(\"Data is normally distributed\")\n",
    "    print(\"NULL Hypothesis is True\")\n",
    "    \n",
    "else:\n",
    "    print(\"Data is not normally distributed\")\n",
    "    print(\"Alternate Hypothesis is True\")"
   ]
  },
  {
   "cell_type": "markdown",
   "id": "a7d63a76",
   "metadata": {},
   "source": [
    "#### 4.Skewness"
   ]
  },
  {
   "cell_type": "code",
   "execution_count": 120,
   "id": "06d22951",
   "metadata": {},
   "outputs": [],
   "source": [
    "from scipy.stats import skew"
   ]
  },
  {
   "cell_type": "code",
   "execution_count": 121,
   "id": "29e0ec81",
   "metadata": {},
   "outputs": [
    {
     "name": "stdout",
     "output_type": "stream",
     "text": [
      "Mean     : -1.1149504258913023e-12\n",
      "Median   : -0.5662134581929408\n",
      "Skewness : 0.6501285536172272\n",
      "Skewness : 0.6461896991862819\n"
     ]
    },
    {
     "data": {
      "image/png": "[encoded data removed]",
      "text/plain": [
       "<Figure size 640x480 with 1 Axes>"
      ]
     },
     "metadata": {},
     "output_type": "display_data"
    }
   ],
   "source": [
    "sns.kdeplot(residual)\n",
    "s1 = residual\n",
    "print('Mean     :',s1.mean())\n",
    "print('Median   :',s1.median())\n",
    "print('Skewness :',s1.skew())\n",
    "print('Skewness :',skew(s1))"
   ]
  },
  {
   "cell_type": "markdown",
   "id": "7b54dfa6",
   "metadata": {},
   "source": [
    "#### 4 .Homoscedascticity"
   ]
  },
  {
   "cell_type": "code",
   "execution_count": 122,
   "id": "7da3d705",
   "metadata": {},
   "outputs": [
    {
     "data": {
      "text/plain": [
       "172    58.1\n",
       "57     53.5\n",
       "244    21.7\n",
       "240    28.8\n",
       "345    37.9\n",
       "       ... \n",
       "299    46.1\n",
       "22     24.6\n",
       "72     36.3\n",
       "15     50.5\n",
       "168    37.4\n",
       "Name: house price of unit area, Length: 248, dtype: float64"
      ]
     },
     "execution_count": 122,
     "metadata": {},
     "output_type": "execute_result"
    }
   ],
   "source": [
    "y_train"
   ]
  },
  {
   "cell_type": "code",
   "execution_count": 123,
   "id": "a876e7f4",
   "metadata": {},
   "outputs": [
    {
     "data": {
      "text/plain": [
       "172     2.075563\n",
       "57      7.428229\n",
       "244   -17.316431\n",
       "240    -4.183438\n",
       "345    -1.049221\n",
       "         ...    \n",
       "299    -0.139997\n",
       "22     -3.515123\n",
       "72     -7.885833\n",
       "15     14.431475\n",
       "168     2.062822\n",
       "Name: house price of unit area, Length: 248, dtype: float64"
      ]
     },
     "execution_count": 123,
     "metadata": {},
     "output_type": "execute_result"
    }
   ],
   "source": [
    "y_pred_train\n",
    "residual_train = y_train-y_pred_train\n",
    "residual"
   ]
  },
  {
   "cell_type": "code",
   "execution_count": 124,
   "id": "ad75e625",
   "metadata": {},
   "outputs": [
    {
     "data": {
      "image/png": "[encoded data removed]",
      "text/plain": [
       "<Figure size 700x500 with 1 Axes>"
      ]
     },
     "metadata": {},
     "output_type": "display_data"
    }
   ],
   "source": [
    "plt.figure(figsize = (7,5))\n",
    "sns.scatterplot(x = y_train, y = residual_train)\n",
    "plt.xlabel('Y Actual')\n",
    "plt.ylabel(\"Residal\")\n",
    "plt.title(\"Yactual Vs Residual Plot\")\n",
    "plt.savefig('Homoscedasticity.png')"
   ]
  },
  {
   "cell_type": "markdown",
   "id": "89cc4dde",
   "metadata": {},
   "source": [
    "#### Single Row Testing"
   ]
  },
  {
   "cell_type": "code",
   "execution_count": 125,
   "id": "eaa0f1e6",
   "metadata": {},
   "outputs": [
    {
     "data": {
      "text/html": [
       "<div>\n",
       "<style scoped>\n",
       "    .dataframe tbody tr th:only-of-type {\n",
       "        vertical-align: middle;\n",
       "    }\n",
       "\n",
       "    .dataframe tbody tr th {\n",
       "        vertical-align: top;\n",
       "    }\n",
       "\n",
       "    .dataframe thead th {\n",
       "        text-align: right;\n",
       "    }\n",
       "</style>\n",
       "<table border=\"1\" class=\"dataframe\">\n",
       "  <thead>\n",
       "    <tr style=\"text-align: right;\">\n",
       "      <th></th>\n",
       "      <th>transaction date</th>\n",
       "      <th>house age</th>\n",
       "      <th>distance to the nearest MRT station</th>\n",
       "      <th>number of convenience stores</th>\n",
       "      <th>latitude</th>\n",
       "      <th>longitude</th>\n",
       "    </tr>\n",
       "  </thead>\n",
       "  <tbody>\n",
       "    <tr>\n",
       "      <th>147</th>\n",
       "      <td>2012.750000</td>\n",
       "      <td>3.2</td>\n",
       "      <td>489.8821</td>\n",
       "      <td>8</td>\n",
       "      <td>24.97017</td>\n",
       "      <td>121.54494</td>\n",
       "    </tr>\n",
       "    <tr>\n",
       "      <th>217</th>\n",
       "      <td>2012.916667</td>\n",
       "      <td>28.0</td>\n",
       "      <td>372.6242</td>\n",
       "      <td>6</td>\n",
       "      <td>24.97838</td>\n",
       "      <td>121.54119</td>\n",
       "    </tr>\n",
       "    <tr>\n",
       "      <th>277</th>\n",
       "      <td>2013.416667</td>\n",
       "      <td>21.2</td>\n",
       "      <td>2185.1280</td>\n",
       "      <td>3</td>\n",
       "      <td>24.96322</td>\n",
       "      <td>121.51237</td>\n",
       "    </tr>\n",
       "    <tr>\n",
       "      <th>32</th>\n",
       "      <td>2012.750000</td>\n",
       "      <td>37.9</td>\n",
       "      <td>488.5727</td>\n",
       "      <td>1</td>\n",
       "      <td>24.97349</td>\n",
       "      <td>121.53451</td>\n",
       "    </tr>\n",
       "    <tr>\n",
       "      <th>182</th>\n",
       "      <td>2013.500000</td>\n",
       "      <td>13.5</td>\n",
       "      <td>2147.3760</td>\n",
       "      <td>3</td>\n",
       "      <td>24.96299</td>\n",
       "      <td>121.51284</td>\n",
       "    </tr>\n",
       "    <tr>\n",
       "      <th>...</th>\n",
       "      <td>...</td>\n",
       "      <td>...</td>\n",
       "      <td>...</td>\n",
       "      <td>...</td>\n",
       "      <td>...</td>\n",
       "      <td>...</td>\n",
       "    </tr>\n",
       "    <tr>\n",
       "      <th>186</th>\n",
       "      <td>2013.166667</td>\n",
       "      <td>20.9</td>\n",
       "      <td>2185.1280</td>\n",
       "      <td>3</td>\n",
       "      <td>24.96322</td>\n",
       "      <td>121.51237</td>\n",
       "    </tr>\n",
       "    <tr>\n",
       "      <th>356</th>\n",
       "      <td>2012.833333</td>\n",
       "      <td>10.3</td>\n",
       "      <td>211.4473</td>\n",
       "      <td>1</td>\n",
       "      <td>24.97417</td>\n",
       "      <td>121.52999</td>\n",
       "    </tr>\n",
       "    <tr>\n",
       "      <th>256</th>\n",
       "      <td>2012.666667</td>\n",
       "      <td>14.6</td>\n",
       "      <td>339.2289</td>\n",
       "      <td>1</td>\n",
       "      <td>24.97519</td>\n",
       "      <td>121.53151</td>\n",
       "    </tr>\n",
       "    <tr>\n",
       "      <th>126</th>\n",
       "      <td>2013.083333</td>\n",
       "      <td>38.6</td>\n",
       "      <td>804.6897</td>\n",
       "      <td>4</td>\n",
       "      <td>24.97838</td>\n",
       "      <td>121.53477</td>\n",
       "    </tr>\n",
       "    <tr>\n",
       "      <th>127</th>\n",
       "      <td>2013.250000</td>\n",
       "      <td>3.8</td>\n",
       "      <td>383.8624</td>\n",
       "      <td>5</td>\n",
       "      <td>24.98085</td>\n",
       "      <td>121.54391</td>\n",
       "    </tr>\n",
       "  </tbody>\n",
       "</table>\n",
       "<p>166 rows × 6 columns</p>\n",
       "</div>"
      ],
      "text/plain": [
       "      transaction date  house age  distance to the nearest MRT station  \\\n",
       "147        2012.750000        3.2                             489.8821   \n",
       "217        2012.916667       28.0                             372.6242   \n",
       "277        2013.416667       21.2                            2185.1280   \n",
       "32         2012.750000       37.9                             488.5727   \n",
       "182        2013.500000       13.5                            2147.3760   \n",
       "..                 ...        ...                                  ...   \n",
       "186        2013.166667       20.9                            2185.1280   \n",
       "356        2012.833333       10.3                             211.4473   \n",
       "256        2012.666667       14.6                             339.2289   \n",
       "126        2013.083333       38.6                             804.6897   \n",
       "127        2013.250000        3.8                             383.8624   \n",
       "\n",
       "     number of convenience stores  latitude  longitude  \n",
       "147                             8  24.97017  121.54494  \n",
       "217                             6  24.97838  121.54119  \n",
       "277                             3  24.96322  121.51237  \n",
       "32                              1  24.97349  121.53451  \n",
       "182                             3  24.96299  121.51284  \n",
       "..                            ...       ...        ...  \n",
       "186                             3  24.96322  121.51237  \n",
       "356                             1  24.97417  121.52999  \n",
       "256                             1  24.97519  121.53151  \n",
       "126                             4  24.97838  121.53477  \n",
       "127                             5  24.98085  121.54391  \n",
       "\n",
       "[166 rows x 6 columns]"
      ]
     },
     "execution_count": 125,
     "metadata": {},
     "output_type": "execute_result"
    }
   ],
   "source": [
    "x_test"
   ]
  },
  {
   "cell_type": "code",
   "execution_count": 126,
   "id": "d79a7db7",
   "metadata": {},
   "outputs": [
    {
     "data": {
      "text/html": [
       "<div>\n",
       "<style scoped>\n",
       "    .dataframe tbody tr th:only-of-type {\n",
       "        vertical-align: middle;\n",
       "    }\n",
       "\n",
       "    .dataframe tbody tr th {\n",
       "        vertical-align: top;\n",
       "    }\n",
       "\n",
       "    .dataframe thead th {\n",
       "        text-align: right;\n",
       "    }\n",
       "</style>\n",
       "<table border=\"1\" class=\"dataframe\">\n",
       "  <thead>\n",
       "    <tr style=\"text-align: right;\">\n",
       "      <th></th>\n",
       "      <th>transaction date</th>\n",
       "      <th>house age</th>\n",
       "      <th>distance to the nearest MRT station</th>\n",
       "      <th>number of convenience stores</th>\n",
       "      <th>latitude</th>\n",
       "      <th>longitude</th>\n",
       "    </tr>\n",
       "  </thead>\n",
       "  <tbody>\n",
       "    <tr>\n",
       "      <th>412</th>\n",
       "      <td>2013.0</td>\n",
       "      <td>8.1</td>\n",
       "      <td>104.8101</td>\n",
       "      <td>5</td>\n",
       "      <td>24.96674</td>\n",
       "      <td>121.54067</td>\n",
       "    </tr>\n",
       "  </tbody>\n",
       "</table>\n",
       "</div>"
      ],
      "text/plain": [
       "      transaction date  house age  distance to the nearest MRT station  \\\n",
       "412             2013.0        8.1                             104.8101   \n",
       "\n",
       "     number of convenience stores  latitude  longitude  \n",
       "412                             5  24.96674  121.54067  "
      ]
     },
     "execution_count": 126,
     "metadata": {},
     "output_type": "execute_result"
    }
   ],
   "source": [
    "x_test[10:11]"
   ]
  },
  {
   "cell_type": "code",
   "execution_count": 127,
   "id": "bc74256f",
   "metadata": {},
   "outputs": [
    {
     "data": {
      "text/plain": [
       "44.308629688730434"
      ]
     },
     "execution_count": 127,
     "metadata": {},
     "output_type": "execute_result"
    }
   ],
   "source": [
    "linear_reg.predict(x_test[10:11])[0]"
   ]
  },
  {
   "cell_type": "code",
   "execution_count": 128,
   "id": "9bd0c2b8",
   "metadata": {},
   "outputs": [
    {
     "data": {
      "text/plain": [
       "[' transaction date',\n",
       " 'house age',\n",
       " 'distance to the nearest MRT station',\n",
       " 'number of convenience stores',\n",
       " 'latitude',\n",
       " 'longitude']"
      ]
     },
     "execution_count": 128,
     "metadata": {},
     "output_type": "execute_result"
    }
   ],
   "source": [
    "column_names = x.columns.tolist()\n",
    "column_names"
   ]
  },
  {
   "cell_type": "code",
   "execution_count": 129,
   "id": "cfa2b272",
   "metadata": {},
   "outputs": [
    {
     "data": {
      "text/plain": [
       "6"
      ]
     },
     "execution_count": 129,
     "metadata": {},
     "output_type": "execute_result"
    }
   ],
   "source": [
    "len(x.columns)"
   ]
  },
  {
   "cell_type": "code",
   "execution_count": 130,
   "id": "2d9320bb",
   "metadata": {},
   "outputs": [
    {
     "data": {
      "text/plain": [
       "6"
      ]
     },
     "execution_count": 130,
     "metadata": {},
     "output_type": "execute_result"
    }
   ],
   "source": [
    "linear_reg.n_features_in_"
   ]
  },
  {
   "cell_type": "code",
   "execution_count": 131,
   "id": "06e3a2da",
   "metadata": {},
   "outputs": [
    {
     "data": {
      "text/plain": [
       "44.3"
      ]
     },
     "execution_count": 131,
     "metadata": {},
     "output_type": "execute_result"
    }
   ],
   "source": [
    "transaction_date =2013.0\n",
    "house_age = 8.1\n",
    "distance_to_the_nearest_MRT_station = 104.8101\n",
    "number_of_convenience_stores = 5\n",
    "latitude = 24.96674\n",
    "longitude = 121.54067\n",
    "\n",
    "\n",
    "test_array = np.zeros([1,linear_reg.n_features_in_])\n",
    "test_array[0,0] = transaction_date\n",
    "test_array[0,1] = house_age\n",
    "test_array[0,2] = distance_to_the_nearest_MRT_station\n",
    "test_array[0,3] = number_of_convenience_stores\n",
    "test_array[0,4] = latitude\n",
    "test_array[0,5] = longitude\n",
    "\n",
    "predicted_house_price = np.around(linear_reg.predict(test_array)[0],1)\n",
    "predicted_house_price"
   ]
  },
  {
   "cell_type": "code",
   "execution_count": 132,
   "id": "ceb25cd2",
   "metadata": {},
   "outputs": [],
   "source": [
    "with open(\"linear_regression.pkl\",\"wb\") as f:\n",
    "    pickle.dump(linear_reg,f)"
   ]
  },
  {
   "cell_type": "code",
   "execution_count": null,
   "id": "9a313559",
   "metadata": {},
   "outputs": [],
   "source": []
  }
 ],
 "metadata": {
  "kernelspec": {
   "display_name": "Python 3 (ipykernel)",
   "language": "python",
   "name": "python3"
  },
  "language_info": {
   "codemirror_mode": {
    "name": "ipython",
    "version": 3
   },
   "file_extension": ".py",
   "mimetype": "text/x-python",
   "name": "python",
   "nbconvert_exporter": "python",
   "pygments_lexer": "ipython3",
   "version": "3.10.9"
  }
 },
 "nbformat": 4,
 "nbformat_minor": 5
}
